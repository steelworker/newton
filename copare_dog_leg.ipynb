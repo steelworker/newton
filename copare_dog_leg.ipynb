{
 "cells": [
  {
   "cell_type": "code",
   "execution_count": 1,
   "metadata": {},
   "outputs": [],
   "source": [
    "import sys\n",
    "sys.path.append('..')\n",
    "\n",
    "import time"
   ]
  },
  {
   "cell_type": "markdown",
   "metadata": {},
   "source": [
    "## numpy"
   ]
  },
  {
   "cell_type": "code",
   "execution_count": 4,
   "metadata": {},
   "outputs": [
    {
     "data": {
      "text/plain": [
       "3.7219412326812744"
      ]
     },
     "execution_count": 4,
     "metadata": {},
     "output_type": "execute_result"
    }
   ],
   "source": [
    "from optimize.dog_leg_np import trust_region_dogleg\n",
    "from optimize.functions import rosen\n",
    "from torch.autograd.functional import hessian, jacobian\n",
    "import torch as tr\n",
    "\n",
    "\n",
    "jac = lambda x: jacobian(rosen, tr.as_tensor(x, dtype=tr.float32)).detach().numpy()\n",
    "hess = lambda x: hessian(rosen, tr.as_tensor(x, dtype=tr.float32)).detach().numpy()\n",
    "\n",
    "t0 = time.time()\n",
    "trust_region_dogleg(rosen, jac, hess, [5]*100)\n",
    "time.time() - t0"
   ]
  },
  {
   "cell_type": "markdown",
   "metadata": {},
   "source": [
    "## torch"
   ]
  },
  {
   "cell_type": "code",
   "execution_count": 5,
   "metadata": {},
   "outputs": [
    {
     "data": {
      "text/plain": [
       "7.994199991226196"
      ]
     },
     "execution_count": 5,
     "metadata": {},
     "output_type": "execute_result"
    }
   ],
   "source": [
    "import torch as tr\n",
    "from optimize.dog_leg_tr import trust_region_dogleg\n",
    "from optimize.functions import rosen\n",
    "\n",
    "t0 = time.time()\n",
    "trust_region_dogleg(rosen, tr.tensor([5.]*100))\n",
    "time.time() - t0"
   ]
  }
 ],
 "metadata": {
  "kernelspec": {
   "display_name": "Python 3",
   "language": "python",
   "name": "python3"
  },
  "language_info": {
   "codemirror_mode": {
    "name": "ipython",
    "version": 3
   },
   "file_extension": ".py",
   "mimetype": "text/x-python",
   "name": "python",
   "nbconvert_exporter": "python",
   "pygments_lexer": "ipython3",
   "version": "3.10.0"
  }
 },
 "nbformat": 4,
 "nbformat_minor": 2
}
